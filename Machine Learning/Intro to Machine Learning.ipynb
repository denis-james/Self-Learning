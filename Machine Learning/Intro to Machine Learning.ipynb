{
 "cells": [
  {
   "cell_type": "markdown",
   "metadata": {},
   "source": [
    "# What is Machine Learning"
   ]
  },
  {
   "cell_type": "markdown",
   "metadata": {},
   "source": [
    "All of computer programming has revolved around solving problems by specifying a set list of instructions that needed to be executed. This field of computer science deals with modeling or defining the \"Learning\" process mathematically so that loosely specific instructions can be transformed into precise processes leading to significant automation."
   ]
  },
  {
   "cell_type": "markdown",
   "metadata": {},
   "source": [
    "On it's most basic level, a machine learning model (the architecture and the parameters of which are problem specific) trains and learns the patterns from a dataset and then tries onto replicating these results assisting in predictions and generation of new results that can be implemented onto the real world."
   ]
  },
  {
   "cell_type": "markdown",
   "metadata": {},
   "source": [
    "## Categories of Machine Learning"
   ]
  },
  {
   "cell_type": "code",
   "execution_count": null,
   "metadata": {},
   "outputs": [],
   "source": []
  }
 ],
 "metadata": {
  "language_info": {
   "name": "python"
  }
 },
 "nbformat": 4,
 "nbformat_minor": 2
}
