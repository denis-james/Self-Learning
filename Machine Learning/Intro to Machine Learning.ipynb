{
 "cells": [
  {
   "cell_type": "markdown",
   "metadata": {},
   "source": [
    "# What is Machine Learning"
   ]
  },
  {
   "cell_type": "markdown",
   "metadata": {},
   "source": [
    "All of computer programming has revolved around solving problems by specifying a set list of instructions that needed to be executed. This field of computer science deals with modeling or defining the \"Learning\" process mathematically so that loosely specific instructions can be transformed into precise processes leading to significant automation."
   ]
  },
  {
   "cell_type": "markdown",
   "metadata": {},
   "source": [
    "On it's most basic level, a machine learning model (the architecture and the parameters of which are problem specific) trains and learns the patterns from a dataset and then tries onto replicating these results assisting in predictions and generation of new results that can be implemented onto the real world."
   ]
  },
  {
   "cell_type": "markdown",
   "metadata": {},
   "source": [
    "## Categories of Machine Learning"
   ]
  },
  {
   "cell_type": "markdown",
   "metadata": {},
   "source": [
    "At its core, machine learning can be divided into two primary categories: supervised learning and unsupervised learning.\n",
    "\n",
    "Supervised learning involves creating a model that captures the relationship between observed features of data and the corresponding labels. Once established, this model can be utilized to assign labels to new, unseen data. Supervised learning is further divided into classification and regression tasks: classification deals with discrete category labels, whereas regression focuses on continuous labels. We'll explore examples of both in the next section.\n",
    "\n",
    "On the other hand, unsupervised learning models the features of a dataset without relying on any labels, often described as 'allowing the data to reveal its own structure.' This category includes tasks like clustering and dimensionality reduction. Clustering algorithms identify distinct groups within the data, while dimensionality reduction techniques aim to find more concise representations of the data. Examples of both types of unsupervised learning will also be discussed in the following section.\n",
    "\n",
    "Additionally, there are semi-supervised learning methods, which bridge the gap between supervised and unsupervised learning. These methods are particularly useful when only partial labeling of the data is available"
   ]
  }
 ],
 "metadata": {
  "language_info": {
   "name": "python"
  }
 },
 "nbformat": 4,
 "nbformat_minor": 2
}
