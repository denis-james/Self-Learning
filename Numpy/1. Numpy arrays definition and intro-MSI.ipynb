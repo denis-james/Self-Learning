{
 "cells": [
  {
   "cell_type": "code",
   "execution_count": 2,
   "metadata": {},
   "outputs": [
    {
     "data": {
      "text/plain": [
       "'1.22.2'"
      ]
     },
     "execution_count": 2,
     "metadata": {},
     "output_type": "execute_result"
    }
   ],
   "source": [
    "import numpy as np\n",
    "np.__version__"
   ]
  },
  {
   "cell_type": "markdown",
   "metadata": {},
   "source": [
    "An integer in python is basically a data structure created in the language C. \n",
    "Which means when an integer is declared in python, it links multiple other informations to this integer with it.\n",
    "i.e. the size needed to store the integer. the memory allocated to store the variable, the data type of the variable.\n"
   ]
  },
  {
   "cell_type": "markdown",
   "metadata": {},
   "source": [
    "A Python list can, unlike lists in other programing languages, store multiple data type objects simultaneously. This means each entry in such a list is an object in itself. even if we have the list filled with the same data type objects, much of the information would be redundant."
   ]
  },
  {
   "cell_type": "markdown",
   "metadata": {},
   "source": [
    "That's why we have Numpy lists with fixed data types."
   ]
  },
  {
   "cell_type": "markdown",
   "metadata": {},
   "source": [
    "# Creating Numpy Array"
   ]
  },
  {
   "cell_type": "markdown",
   "metadata": {},
   "source": [
    "\n",
    "Simple way of creating a numpy array. Can drop the dtype attribute"
   ]
  },
  {
   "cell_type": "code",
   "execution_count": 3,
   "metadata": {},
   "outputs": [
    {
     "data": {
      "text/plain": [
       "array([1., 3., 5., 7., 9.])"
      ]
     },
     "execution_count": 3,
     "metadata": {},
     "output_type": "execute_result"
    }
   ],
   "source": [
    "np.array([i for i in range(1,11,2)],dtype='float64')"
   ]
  },
  {
   "cell_type": "markdown",
   "metadata": {},
   "source": [
    "Multi-dimensional lists also exist"
   ]
  },
  {
   "cell_type": "code",
   "execution_count": 4,
   "metadata": {},
   "outputs": [],
   "source": [
    "multidim=np.array([list(range(i,i+5)) for i in range(1,5)])"
   ]
  },
  {
   "cell_type": "code",
   "execution_count": 5,
   "metadata": {},
   "outputs": [
    {
     "name": "stdout",
     "output_type": "stream",
     "text": [
      "[[1 2 3 4 5]\n",
      " [2 3 4 5 6]\n",
      " [3 4 5 6 7]\n",
      " [4 5 6 7 8]]\n"
     ]
    }
   ],
   "source": [
    "print(multidim)"
   ]
  },
  {
   "cell_type": "markdown",
   "metadata": {},
   "source": [
    "# Easy shortcuts to create and array"
   ]
  },
  {
   "cell_type": "code",
   "execution_count": 6,
   "metadata": {},
   "outputs": [
    {
     "name": "stdout",
     "output_type": "stream",
     "text": [
      "[0. 0.]\n",
      "[[0. 0. 0.]\n",
      " [0. 0. 0.]]\n"
     ]
    }
   ],
   "source": [
    "zeroarray2by2=np.zeros(2)\n",
    "zeroarray2by3=np.zeros((2,3))\n",
    "print(zeroarray2by2)\n",
    "print(zeroarray2by3)"
   ]
  },
  {
   "cell_type": "code",
   "execution_count": 7,
   "metadata": {},
   "outputs": [
    {
     "name": "stdout",
     "output_type": "stream",
     "text": [
      "[1. 1.]\n",
      "[[1. 1. 1.]\n",
      " [1. 1. 1.]]\n"
     ]
    }
   ],
   "source": [
    "onesarray2by2=np.ones(2)\n",
    "onesarray2by3=np.ones((2,3))\n",
    "print(onesarray2by2)\n",
    "print(onesarray2by3)"
   ]
  },
  {
   "cell_type": "code",
   "execution_count": 8,
   "metadata": {},
   "outputs": [
    {
     "name": "stdout",
     "output_type": "stream",
     "text": [
      "[[6.5 6.5 6.5]\n",
      " [6.5 6.5 6.5]]\n"
     ]
    }
   ],
   "source": [
    "sameintegerarray=np.full((2,3),6.5)\n",
    "print(sameintegerarray)"
   ]
  },
  {
   "cell_type": "code",
   "execution_count": 9,
   "metadata": {},
   "outputs": [
    {
     "name": "stdout",
     "output_type": "stream",
     "text": [
      "[1 3 5 7 9]\n",
      "[ 1  3  5  7  9 11]\n"
     ]
    }
   ],
   "source": [
    "similartorange=np.arange(1,11,2)\n",
    "similartorange2=np.arange(1,12,2)\n",
    "\n",
    "print(similartorange)\n",
    "print(similartorange2)"
   ]
  },
  {
   "cell_type": "code",
   "execution_count": 10,
   "metadata": {},
   "outputs": [
    {
     "name": "stdout",
     "output_type": "stream",
     "text": [
      "[  2.  24.  46.  68.  90. 112. 134. 156. 178. 200.]\n"
     ]
    }
   ],
   "source": [
    "equallyspacedvalues=np.linspace(2,200,10)#Inclusive of both the endpoints\n",
    "print(equallyspacedvalues)"
   ]
  },
  {
   "cell_type": "code",
   "execution_count": 11,
   "metadata": {},
   "outputs": [
    {
     "name": "stdout",
     "output_type": "stream",
     "text": [
      "[[[0.14277587 0.4834854 ]\n",
      "  [0.43480918 0.43179257]\n",
      "  [0.38395378 0.72871493]]\n",
      "\n",
      " [[0.87451215 0.53334754]\n",
      "  [0.50149853 0.74825499]\n",
      "  [0.95376918 0.19091411]]\n",
      "\n",
      " [[0.7032876  0.96640639]\n",
      "  [0.36156799 0.25085819]\n",
      "  [0.70359506 0.29759033]]\n",
      "\n",
      " [[0.27308511 0.10765974]\n",
      "  [0.27227052 0.9495659 ]\n",
      "  [0.53944433 0.06247192]]]\n"
     ]
    }
   ],
   "source": [
    "random3dimensionalarray=np.random.random((4,3,2))\n",
    "print(random3dimensionalarray)"
   ]
  },
  {
   "cell_type": "code",
   "execution_count": 12,
   "metadata": {},
   "outputs": [
    {
     "name": "stdout",
     "output_type": "stream",
     "text": [
      "[[[ 9.71120073  4.25196267 15.04805   ]\n",
      "  [11.50174478 11.2292895  12.44851984]\n",
      "  [10.54950675  9.17945278 12.16991568]]\n",
      "\n",
      " [[ 9.94719029 11.35639775  5.17540249]\n",
      "  [10.54935513 10.53479609 13.86382082]\n",
      "  [15.58692641  9.22623361  8.87274097]]\n",
      "\n",
      " [[13.90069268  8.22682948 10.49732363]\n",
      "  [ 7.41216565 15.18535973  8.90507302]\n",
      "  [ 6.56789054 13.96856602  9.45178536]]]\n"
     ]
    }
   ],
   "source": [
    "normallydistributed3dimensionalarray=np.random.normal(10,3,(3,3,3))\n",
    "print(normallydistributed3dimensionalarray)"
   ]
  },
  {
   "cell_type": "code",
   "execution_count": 13,
   "metadata": {},
   "outputs": [
    {
     "name": "stdout",
     "output_type": "stream",
     "text": [
      "[[[469 148]\n",
      "  [406 182]\n",
      "  [360  91]]\n",
      "\n",
      " [[159 112]\n",
      "  [124 248]\n",
      "  [ 85 299]]\n",
      "\n",
      " [[ 89  45]\n",
      "  [477 315]\n",
      "  [ 92 464]]\n",
      "\n",
      " [[249  94]\n",
      "  [380 127]\n",
      "  [141 373]]]\n"
     ]
    }
   ],
   "source": [
    "randomint4_3_2dimensionalarray=np.random.randint(5,500,(4,3,2))\n",
    "print(randomint4_3_2dimensionalarray)"
   ]
  },
  {
   "cell_type": "code",
   "execution_count": 14,
   "metadata": {},
   "outputs": [
    {
     "name": "stdout",
     "output_type": "stream",
     "text": [
      "[[0. 0. 1. 0. 0. 0.]\n",
      " [0. 0. 0. 1. 0. 0.]\n",
      " [0. 0. 0. 0. 1. 0.]\n",
      " [0. 0. 0. 0. 0. 1.]\n",
      " [0. 0. 0. 0. 0. 0.]]\n"
     ]
    }
   ],
   "source": [
    "identitymatrixsortof=np.eye(5,6,2)\n",
    "print(identitymatrixsortof)"
   ]
  },
  {
   "cell_type": "code",
   "execution_count": 15,
   "metadata": {},
   "outputs": [
    {
     "name": "stdout",
     "output_type": "stream",
     "text": [
      "[7.74860419e-304 7.74860419e-304 7.74860419e-304]\n"
     ]
    }
   ],
   "source": [
    "uninitializedarray=np.empty(3)\n",
    "#the values will be whatever exist in the locatiaon already\n",
    "print(uninitializedarray)\n"
   ]
  },
  {
   "cell_type": "code",
   "execution_count": 16,
   "metadata": {},
   "outputs": [
    {
     "data": {
      "text/plain": [
       "array([[0, 0],\n",
       "       [0, 0],\n",
       "       [0, 0],\n",
       "       [0, 0],\n",
       "       [0, 0],\n",
       "       [0, 0],\n",
       "       [0, 0],\n",
       "       [0, 0],\n",
       "       [0, 0],\n",
       "       [0, 0]], dtype=int16)"
      ]
     },
     "execution_count": 16,
     "metadata": {},
     "output_type": "execute_result"
    }
   ],
   "source": [
    "np.zeros((10,2),dtype='int16')"
   ]
  },
  {
   "cell_type": "markdown",
   "metadata": {},
   "source": [
    "There exist many types of datatypes of numpy arrays which one can look up."
   ]
  }
 ],
 "metadata": {
  "kernelspec": {
   "display_name": "Python 3.9.13 64-bit (windows store)",
   "language": "python",
   "name": "python3"
  },
  "language_info": {
   "codemirror_mode": {
    "name": "ipython",
    "version": 3
   },
   "file_extension": ".py",
   "mimetype": "text/x-python",
   "name": "python",
   "nbconvert_exporter": "python",
   "pygments_lexer": "ipython3",
   "version": "3.9.13"
  },
  "orig_nbformat": 4,
  "vscode": {
   "interpreter": {
    "hash": "49a102da4b5105263402ebcb8052cded23fbfdf691953dc1ee8c4f9cf48b6d97"
   }
  }
 },
 "nbformat": 4,
 "nbformat_minor": 2
}
