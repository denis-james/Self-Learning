{
 "cells": [
  {
   "cell_type": "code",
   "execution_count": 2,
   "metadata": {},
   "outputs": [],
   "source": [
    "import numpy as np"
   ]
  },
  {
   "cell_type": "markdown",
   "metadata": {},
   "source": [
    "# Numpy Array Manipulation"
   ]
  },
  {
   "cell_type": "markdown",
   "metadata": {},
   "source": [
    "## Array Attributes"
   ]
  },
  {
   "cell_type": "markdown",
   "metadata": {},
   "source": [
    "Setting Random Seed\n",
    "\n",
    "Creating \n",
    "1. 1dimsional Array\n",
    "2. 2dimensional Array\n",
    "3. 3dimensional Array"
   ]
  },
  {
   "cell_type": "code",
   "execution_count": 3,
   "metadata": {},
   "outputs": [
    {
     "name": "stdout",
     "output_type": "stream",
     "text": [
      "[1 9 6 5] [[68 35 69 11]\n",
      " [78 29 18 29]\n",
      " [89 29 20 96]] [[[830 261 916 947 531 981]\n",
      "  [789 191 488 584 495 554]\n",
      "  [365 468 328 894 106  77]\n",
      "  [164 642 293 226 186 938]\n",
      "  [203 802 361  58 702 166]]\n",
      "\n",
      " [[728 322 582 426 224 811]\n",
      "  [213 372 543 496 724 484]\n",
      "  [217 247 190 852 602 953]\n",
      "  [205 428 787 618 733 238]\n",
      "  [550 279 905 653 838 136]]\n",
      "\n",
      " [[376 350 889 100 548 874]\n",
      "  [733 176 525 241   1 517]\n",
      "  [986 713  99 933   0 432]\n",
      "  [ 44 731 354 419 148 657]\n",
      "  [326 107 487 291 934 149]]\n",
      "\n",
      " [[145 573 509  11 518  59]\n",
      "  [589 669 959 785 991   0]\n",
      "  [ 85 614 103  43 172 222]\n",
      "  [945 166  23 866 890 489]\n",
      "  [101 114 527 528 717 641]]]\n"
     ]
    }
   ],
   "source": [
    "np.random.seed(34)\n",
    "_1dimensional=np.random.randint(10,size=4)\n",
    "_2dimensional=np.random.randint(100,size=(3,4))\n",
    "_3dimensional=np.random.randint(1000,size=(4,5,6))\n",
    "print(_1dimensional,_2dimensional,_3dimensional)\n"
   ]
  },
  {
   "cell_type": "code",
   "execution_count": 4,
   "metadata": {},
   "outputs": [
    {
     "name": "stdout",
     "output_type": "stream",
     "text": [
      "3\n",
      "(3, 4)\n",
      "120\n"
     ]
    }
   ],
   "source": [
    "print(_3dimensional.ndim)#number of dimensions of the array\n",
    "print(_2dimensional.shape)#shape of the array\n",
    "print(_3dimensional.size)#number of entries in the array"
   ]
  },
  {
   "cell_type": "code",
   "execution_count": 5,
   "metadata": {},
   "outputs": [
    {
     "name": "stdout",
     "output_type": "stream",
     "text": [
      "int32\n"
     ]
    }
   ],
   "source": [
    "print(_1dimensional.dtype)"
   ]
  },
  {
   "cell_type": "code",
   "execution_count": 6,
   "metadata": {},
   "outputs": [
    {
     "name": "stdout",
     "output_type": "stream",
     "text": [
      "This is the size of each element in this list 4 bytes\n",
      "This is the size of the whole list 480 bytes\n"
     ]
    }
   ],
   "source": [
    "print(\"This is the size of each element in this list\",_3dimensional.itemsize,\"bytes\")\n",
    "print(\"This is the size of the whole list\",_3dimensional.nbytes,\"bytes\")\n",
    "#It's prety obvious that nbytes=itemsize*size attribute"
   ]
  },
  {
   "cell_type": "markdown",
   "metadata": {},
   "source": [
    "## Array Indexing: Accessing each element"
   ]
  },
  {
   "cell_type": "markdown",
   "metadata": {},
   "source": [
    "Similar to the Python list accessing process "
   ]
  },
  {
   "cell_type": "code",
   "execution_count": 7,
   "metadata": {},
   "outputs": [
    {
     "data": {
      "text/plain": [
       "array([1, 9, 6, 5])"
      ]
     },
     "execution_count": 7,
     "metadata": {},
     "output_type": "execute_result"
    }
   ],
   "source": [
    "_1dimensional"
   ]
  },
  {
   "cell_type": "code",
   "execution_count": 8,
   "metadata": {},
   "outputs": [
    {
     "data": {
      "text/plain": [
       "6"
      ]
     },
     "execution_count": 8,
     "metadata": {},
     "output_type": "execute_result"
    }
   ],
   "source": [
    "_1dimensional[2]"
   ]
  },
  {
   "cell_type": "code",
   "execution_count": 9,
   "metadata": {},
   "outputs": [
    {
     "data": {
      "text/plain": [
       "5"
      ]
     },
     "execution_count": 9,
     "metadata": {},
     "output_type": "execute_result"
    }
   ],
   "source": [
    "_1dimensional[-1]"
   ]
  },
  {
   "cell_type": "code",
   "execution_count": 10,
   "metadata": {},
   "outputs": [
    {
     "data": {
      "text/plain": [
       "array([[68, 35, 69, 11],\n",
       "       [78, 29, 18, 29],\n",
       "       [89, 29, 20, 96]])"
      ]
     },
     "execution_count": 10,
     "metadata": {},
     "output_type": "execute_result"
    }
   ],
   "source": [
    "_2dimensional"
   ]
  },
  {
   "cell_type": "code",
   "execution_count": 11,
   "metadata": {},
   "outputs": [
    {
     "data": {
      "text/plain": [
       "96"
      ]
     },
     "execution_count": 11,
     "metadata": {},
     "output_type": "execute_result"
    }
   ],
   "source": [
    "_2dimensional[2,3]"
   ]
  },
  {
   "cell_type": "code",
   "execution_count": 12,
   "metadata": {},
   "outputs": [
    {
     "data": {
      "text/plain": [
       "68"
      ]
     },
     "execution_count": 12,
     "metadata": {},
     "output_type": "execute_result"
    }
   ],
   "source": [
    "_2dimensional[-3,0]"
   ]
  },
  {
   "cell_type": "code",
   "execution_count": 13,
   "metadata": {},
   "outputs": [],
   "source": [
    "_3dimensional[2,1,3]=171"
   ]
  },
  {
   "cell_type": "code",
   "execution_count": 14,
   "metadata": {},
   "outputs": [
    {
     "data": {
      "text/plain": [
       "array([[[830, 261, 916, 947, 531, 981],\n",
       "        [789, 191, 488, 584, 495, 554],\n",
       "        [365, 468, 328, 894, 106,  77],\n",
       "        [164, 642, 293, 226, 186, 938],\n",
       "        [203, 802, 361,  58, 702, 166]],\n",
       "\n",
       "       [[728, 322, 582, 426, 224, 811],\n",
       "        [213, 372, 543, 496, 724, 484],\n",
       "        [217, 247, 190, 852, 602, 953],\n",
       "        [205, 428, 787, 618, 733, 238],\n",
       "        [550, 279, 905, 653, 838, 136]],\n",
       "\n",
       "       [[376, 350, 889, 100, 548, 874],\n",
       "        [733, 176, 525, 171,   1, 517],\n",
       "        [986, 713,  99, 933,   0, 432],\n",
       "        [ 44, 731, 354, 419, 148, 657],\n",
       "        [326, 107, 487, 291, 934, 149]],\n",
       "\n",
       "       [[145, 573, 509,  11, 518,  59],\n",
       "        [589, 669, 959, 785, 991,   0],\n",
       "        [ 85, 614, 103,  43, 172, 222],\n",
       "        [945, 166,  23, 866, 890, 489],\n",
       "        [101, 114, 527, 528, 717, 641]]])"
      ]
     },
     "execution_count": 14,
     "metadata": {},
     "output_type": "execute_result"
    }
   ],
   "source": [
    "_3dimensional"
   ]
  },
  {
   "cell_type": "markdown",
   "metadata": {},
   "source": [
    "## Array Slicing"
   ]
  },
  {
   "cell_type": "code",
   "execution_count": 15,
   "metadata": {},
   "outputs": [
    {
     "data": {
      "text/plain": [
       "array([9, 6, 5])"
      ]
     },
     "execution_count": 15,
     "metadata": {},
     "output_type": "execute_result"
    }
   ],
   "source": [
    "_1dimensional[1:4]"
   ]
  },
  {
   "cell_type": "code",
   "execution_count": 16,
   "metadata": {},
   "outputs": [
    {
     "data": {
      "text/plain": [
       "array([1, 9, 6])"
      ]
     },
     "execution_count": 16,
     "metadata": {},
     "output_type": "execute_result"
    }
   ],
   "source": [
    "_1dimensional[:3]"
   ]
  },
  {
   "cell_type": "code",
   "execution_count": 17,
   "metadata": {},
   "outputs": [
    {
     "data": {
      "text/plain": [
       "array([9, 6, 5])"
      ]
     },
     "execution_count": 17,
     "metadata": {},
     "output_type": "execute_result"
    }
   ],
   "source": [
    "_1dimensional[1:]"
   ]
  },
  {
   "cell_type": "code",
   "execution_count": 18,
   "metadata": {},
   "outputs": [
    {
     "data": {
      "text/plain": [
       "array([9, 5])"
      ]
     },
     "execution_count": 18,
     "metadata": {},
     "output_type": "execute_result"
    }
   ],
   "source": [
    "_1dimensional[1:4:2]"
   ]
  },
  {
   "cell_type": "code",
   "execution_count": 19,
   "metadata": {},
   "outputs": [
    {
     "data": {
      "text/plain": [
       "array([1, 6])"
      ]
     },
     "execution_count": 19,
     "metadata": {},
     "output_type": "execute_result"
    }
   ],
   "source": [
    "_1dimensional[::2]"
   ]
  },
  {
   "cell_type": "code",
   "execution_count": 20,
   "metadata": {},
   "outputs": [
    {
     "data": {
      "text/plain": [
       "array([5, 6, 9, 1])"
      ]
     },
     "execution_count": 20,
     "metadata": {},
     "output_type": "execute_result"
    }
   ],
   "source": [
    "_1dimensional[::-1]#reverses the array"
   ]
  },
  {
   "cell_type": "markdown",
   "metadata": {},
   "source": [
    "Multidimensional Slicing"
   ]
  },
  {
   "cell_type": "code",
   "execution_count": 21,
   "metadata": {},
   "outputs": [
    {
     "data": {
      "text/plain": [
       "array([[68, 35, 69, 11],\n",
       "       [78, 29, 18, 29],\n",
       "       [89, 29, 20, 96]])"
      ]
     },
     "execution_count": 21,
     "metadata": {},
     "output_type": "execute_result"
    }
   ],
   "source": [
    "_2dimensional"
   ]
  },
  {
   "cell_type": "code",
   "execution_count": 22,
   "metadata": {},
   "outputs": [
    {
     "data": {
      "text/plain": [
       "array([[68, 35, 69],\n",
       "       [78, 29, 18]])"
      ]
     },
     "execution_count": 22,
     "metadata": {},
     "output_type": "execute_result"
    }
   ],
   "source": [
    "_2dimensional[:2,:3]"
   ]
  },
  {
   "cell_type": "code",
   "execution_count": 23,
   "metadata": {},
   "outputs": [
    {
     "data": {
      "text/plain": [
       "array([[[830, 261, 916, 947, 531, 981],\n",
       "        [789, 191, 488, 584, 495, 554],\n",
       "        [365, 468, 328, 894, 106,  77],\n",
       "        [164, 642, 293, 226, 186, 938],\n",
       "        [203, 802, 361,  58, 702, 166]],\n",
       "\n",
       "       [[728, 322, 582, 426, 224, 811],\n",
       "        [213, 372, 543, 496, 724, 484],\n",
       "        [217, 247, 190, 852, 602, 953],\n",
       "        [205, 428, 787, 618, 733, 238],\n",
       "        [550, 279, 905, 653, 838, 136]],\n",
       "\n",
       "       [[376, 350, 889, 100, 548, 874],\n",
       "        [733, 176, 525, 171,   1, 517],\n",
       "        [986, 713,  99, 933,   0, 432],\n",
       "        [ 44, 731, 354, 419, 148, 657],\n",
       "        [326, 107, 487, 291, 934, 149]],\n",
       "\n",
       "       [[145, 573, 509,  11, 518,  59],\n",
       "        [589, 669, 959, 785, 991,   0],\n",
       "        [ 85, 614, 103,  43, 172, 222],\n",
       "        [945, 166,  23, 866, 890, 489],\n",
       "        [101, 114, 527, 528, 717, 641]]])"
      ]
     },
     "execution_count": 23,
     "metadata": {},
     "output_type": "execute_result"
    }
   ],
   "source": [
    "_3dimensional"
   ]
  },
  {
   "cell_type": "code",
   "execution_count": 24,
   "metadata": {},
   "outputs": [
    {
     "data": {
      "text/plain": [
       "array([[[789, 584],\n",
       "        [164, 226]],\n",
       "\n",
       "       [[733, 171],\n",
       "        [ 44, 419]]])"
      ]
     },
     "execution_count": 24,
     "metadata": {},
     "output_type": "execute_result"
    }
   ],
   "source": [
    "_3dimensional[::2,1::2,::3]"
   ]
  },
  {
   "cell_type": "markdown",
   "metadata": {},
   "source": [
    "Accessing Rows or Columns of a multidimensional Array"
   ]
  },
  {
   "cell_type": "code",
   "execution_count": 25,
   "metadata": {},
   "outputs": [
    {
     "name": "stdout",
     "output_type": "stream",
     "text": [
      "[68 78 89]\n"
     ]
    }
   ],
   "source": [
    "print(_2dimensional[:,0])#1st column"
   ]
  },
  {
   "cell_type": "code",
   "execution_count": 26,
   "metadata": {},
   "outputs": [
    {
     "name": "stdout",
     "output_type": "stream",
     "text": [
      "[[830 789 365 164 203]\n",
      " [728 213 217 205 550]\n",
      " [376 733 986  44 326]\n",
      " [145 589  85 945 101]]\n"
     ]
    }
   ],
   "source": [
    "print(_3dimensional[:,:,0])#Think about which slice this is "
   ]
  },
  {
   "cell_type": "code",
   "execution_count": 27,
   "metadata": {},
   "outputs": [
    {
     "name": "stdout",
     "output_type": "stream",
     "text": [
      "[[164 642 293 226 186 938]\n",
      " [205 428 787 618 733 238]\n",
      " [ 44 731 354 419 148 657]\n",
      " [945 166  23 866 890 489]]\n"
     ]
    }
   ],
   "source": [
    "print(_3dimensional[:,3,:])#Think about which slice this is "
   ]
  },
  {
   "cell_type": "code",
   "execution_count": 28,
   "metadata": {},
   "outputs": [
    {
     "name": "stdout",
     "output_type": "stream",
     "text": [
      "[293 787 354  23]\n"
     ]
    }
   ],
   "source": [
    "print(_3dimensional[:,3,2])"
   ]
  },
  {
   "cell_type": "markdown",
   "metadata": {},
   "source": [
    "One useful so-called \"feature\" is that any changes made to these slices we see that have been created above would alter the main list we have with us."
   ]
  },
  {
   "cell_type": "code",
   "execution_count": 29,
   "metadata": {},
   "outputs": [
    {
     "data": {
      "text/plain": [
       "array([[164, 642, 293, 226, 186, 938],\n",
       "       [205, 428, 787, 618, 733, 238],\n",
       "       [ 44, 731, 354, 419, 148, 657],\n",
       "       [945, 166,  23, 866, 890, 489]])"
      ]
     },
     "execution_count": 29,
     "metadata": {},
     "output_type": "execute_result"
    }
   ],
   "source": [
    "TheNewArray=_3dimensional[:,3,:]\n",
    "TheNewArray"
   ]
  },
  {
   "cell_type": "code",
   "execution_count": 30,
   "metadata": {},
   "outputs": [],
   "source": [
    "TheNewArray[2,3]=6666"
   ]
  },
  {
   "cell_type": "code",
   "execution_count": 31,
   "metadata": {},
   "outputs": [
    {
     "name": "stdout",
     "output_type": "stream",
     "text": [
      "[[[ 830  261  916  947  531  981]\n",
      "  [ 789  191  488  584  495  554]\n",
      "  [ 365  468  328  894  106   77]\n",
      "  [ 164  642  293  226  186  938]\n",
      "  [ 203  802  361   58  702  166]]\n",
      "\n",
      " [[ 728  322  582  426  224  811]\n",
      "  [ 213  372  543  496  724  484]\n",
      "  [ 217  247  190  852  602  953]\n",
      "  [ 205  428  787  618  733  238]\n",
      "  [ 550  279  905  653  838  136]]\n",
      "\n",
      " [[ 376  350  889  100  548  874]\n",
      "  [ 733  176  525  171    1  517]\n",
      "  [ 986  713   99  933    0  432]\n",
      "  [  44  731  354 6666  148  657]\n",
      "  [ 326  107  487  291  934  149]]\n",
      "\n",
      " [[ 145  573  509   11  518   59]\n",
      "  [ 589  669  959  785  991    0]\n",
      "  [  85  614  103   43  172  222]\n",
      "  [ 945  166   23  866  890  489]\n",
      "  [ 101  114  527  528  717  641]]]\n"
     ]
    }
   ],
   "source": [
    "print(_3dimensional)"
   ]
  },
  {
   "cell_type": "markdown",
   "metadata": {},
   "source": [
    "But sometimes it's necessary to create a copy inspite of this feature available."
   ]
  },
  {
   "cell_type": "code",
   "execution_count": 32,
   "metadata": {},
   "outputs": [
    {
     "name": "stdout",
     "output_type": "stream",
     "text": [
      "[[  164   642   293   226   186   938]\n",
      " [  205   428   787   618   733   238]\n",
      " [   44   731   354 99999   148   657]\n",
      " [  945   166    23   866   890   489]] [[[ 830  261  916  947  531  981]\n",
      "  [ 789  191  488  584  495  554]\n",
      "  [ 365  468  328  894  106   77]\n",
      "  [ 164  642  293  226  186  938]\n",
      "  [ 203  802  361   58  702  166]]\n",
      "\n",
      " [[ 728  322  582  426  224  811]\n",
      "  [ 213  372  543  496  724  484]\n",
      "  [ 217  247  190  852  602  953]\n",
      "  [ 205  428  787  618  733  238]\n",
      "  [ 550  279  905  653  838  136]]\n",
      "\n",
      " [[ 376  350  889  100  548  874]\n",
      "  [ 733  176  525  171    1  517]\n",
      "  [ 986  713   99  933    0  432]\n",
      "  [  44  731  354 6666  148  657]\n",
      "  [ 326  107  487  291  934  149]]\n",
      "\n",
      " [[ 145  573  509   11  518   59]\n",
      "  [ 589  669  959  785  991    0]\n",
      "  [  85  614  103   43  172  222]\n",
      "  [ 945  166   23  866  890  489]\n",
      "  [ 101  114  527  528  717  641]]]\n"
     ]
    }
   ],
   "source": [
    "TheNewArray=_3dimensional[:,3,:].copy()\n",
    "TheNewArray[2,3]=99999\n",
    "print(TheNewArray,_3dimensional)"
   ]
  },
  {
   "cell_type": "markdown",
   "metadata": {},
   "source": [
    "## Reshaping the Array"
   ]
  },
  {
   "cell_type": "markdown",
   "metadata": {},
   "source": [
    "Say you want to reshape an array of length 9 into a 3*3 array"
   ]
  },
  {
   "cell_type": "code",
   "execution_count": 33,
   "metadata": {},
   "outputs": [
    {
     "name": "stdout",
     "output_type": "stream",
     "text": [
      "[70 95  4 78 18 17 48 77 72]\n"
     ]
    }
   ],
   "source": [
    "arrayTing=np.random.randint(100,size=9)\n",
    "print(arrayTing)"
   ]
  },
  {
   "cell_type": "code",
   "execution_count": 34,
   "metadata": {},
   "outputs": [
    {
     "name": "stdout",
     "output_type": "stream",
     "text": [
      "[[70 95  4]\n",
      " [78 18 17]\n",
      " [48 77 72]]\n"
     ]
    }
   ],
   "source": [
    "gridTing=arrayTing.reshape((3,3))\n",
    "print(gridTing)"
   ]
  },
  {
   "cell_type": "markdown",
   "metadata": {},
   "source": [
    "Quite obvious that for this to work the size should becompatable with the reshaped array"
   ]
  },
  {
   "cell_type": "markdown",
   "metadata": {},
   "source": [
    "There's one more way of doing this. By adding another dimension to the array. As shown this just adds another dimension to the array and does not as such reshape the array"
   ]
  },
  {
   "cell_type": "code",
   "execution_count": 35,
   "metadata": {},
   "outputs": [
    {
     "name": "stdout",
     "output_type": "stream",
     "text": [
      "(3,)\n"
     ]
    }
   ],
   "source": [
    "x=np.array([1,2,3])\n",
    "#x.reshape((1,3))\n",
    "print(x.shape)"
   ]
  },
  {
   "cell_type": "code",
   "execution_count": 38,
   "metadata": {},
   "outputs": [
    {
     "name": "stdout",
     "output_type": "stream",
     "text": [
      "[[1]\n",
      " [2]\n",
      " [3]]\n",
      "[[1 2 3]]\n"
     ]
    }
   ],
   "source": [
    "print(x[:,np.newaxis])#changes the arrays shape from (3) to (3,1)\n",
    "print(x[np.newaxis,:])#changes the arrays shape from (3) to (1,3)"
   ]
  },
  {
   "cell_type": "code",
   "execution_count": 45,
   "metadata": {},
   "outputs": [
    {
     "data": {
      "text/plain": [
       "(10, 10, 1, 10)"
      ]
     },
     "execution_count": 45,
     "metadata": {},
     "output_type": "execute_result"
    }
   ],
   "source": [
    "x3d=np.arange(1000).reshape((10,10,10))\n",
    "x3d.shape\n",
    "x3d[:,:,np.newaxis,:].shape#Try experimenting with np.newaxis here"
   ]
  },
  {
   "cell_type": "code",
   "execution_count": 36,
   "metadata": {},
   "outputs": [
    {
     "name": "stdout",
     "output_type": "stream",
     "text": [
      "[1 2 3]\n"
     ]
    }
   ],
   "source": [
    "print(x)"
   ]
  },
  {
   "cell_type": "markdown",
   "metadata": {},
   "source": [
    "## Concatenation of Arrays"
   ]
  },
  {
   "cell_type": "code",
   "execution_count": 37,
   "metadata": {},
   "outputs": [],
   "source": [
    "ar1=np.array([1,2,3])\n",
    "ar2=np.array([3,2,1])\n",
    "ar3=np.array([99,99,99])"
   ]
  },
  {
   "cell_type": "code",
   "execution_count": 38,
   "metadata": {},
   "outputs": [
    {
     "data": {
      "text/plain": [
       "array([ 1,  2,  3,  3,  2,  1, 99, 99, 99])"
      ]
     },
     "execution_count": 38,
     "metadata": {},
     "output_type": "execute_result"
    }
   ],
   "source": [
    "np.concatenate([ar1,ar2,ar3])"
   ]
  },
  {
   "cell_type": "code",
   "execution_count": 39,
   "metadata": {},
   "outputs": [],
   "source": [
    "#2dimensional concatenation\n",
    "ar2d1=np.array([[1,2,3],[4,5,6]])\n",
    "ar2d2=np.array([[7,8,9],[10,11,12]])\n"
   ]
  },
  {
   "cell_type": "code",
   "execution_count": 40,
   "metadata": {},
   "outputs": [
    {
     "name": "stdout",
     "output_type": "stream",
     "text": [
      "[[ 1  2  3]\n",
      " [ 4  5  6]\n",
      " [ 7  8  9]\n",
      " [10 11 12]]\n",
      "[[ 1  2  3  7  8  9]\n",
      " [ 4  5  6 10 11 12]]\n"
     ]
    }
   ],
   "source": [
    "print(np.concatenate([ar2d1,ar2d2],axis=0))#concatenate arrays along the surface axis\n",
    "print(np.concatenate([ar2d1,ar2d2],axis=1))#concatenate arrays along the axis just after the sufrace axis.\n",
    "#The number decides the deapth of the axis"
   ]
  },
  {
   "cell_type": "markdown",
   "metadata": {},
   "source": [
    "What make a bit more sense are the following two functions"
   ]
  },
  {
   "cell_type": "code",
   "execution_count": 41,
   "metadata": {},
   "outputs": [
    {
     "data": {
      "text/plain": [
       "array([[ 1,  2,  3],\n",
       "       [ 4,  5,  6],\n",
       "       [ 7,  8,  9],\n",
       "       [10, 11, 12]])"
      ]
     },
     "execution_count": 41,
     "metadata": {},
     "output_type": "execute_result"
    }
   ],
   "source": [
    "np.vstack([ar2d1,ar2d2])"
   ]
  },
  {
   "cell_type": "code",
   "execution_count": 42,
   "metadata": {},
   "outputs": [
    {
     "data": {
      "text/plain": [
       "array([[ 1,  2,  3,  7,  8,  9],\n",
       "       [ 4,  5,  6, 10, 11, 12]])"
      ]
     },
     "execution_count": 42,
     "metadata": {},
     "output_type": "execute_result"
    }
   ],
   "source": [
    "np.hstack([ar2d1,ar2d2])"
   ]
  },
  {
   "cell_type": "markdown",
   "metadata": {},
   "source": [
    "## Splitting of arrays"
   ]
  },
  {
   "cell_type": "code",
   "execution_count": 43,
   "metadata": {},
   "outputs": [
    {
     "name": "stdout",
     "output_type": "stream",
     "text": [
      "[1 2 3] [4 5] [6 7 8 9]\n"
     ]
    }
   ],
   "source": [
    "split_ar=np.array([1,2,3,4,5,6,7,8,9])\n",
    "pehla,dusra,theesra=np.split(split_ar,[3,5])\n",
    "print(pehla,dusra,theesra)"
   ]
  },
  {
   "cell_type": "markdown",
   "metadata": {},
   "source": [
    "We can split 2d arrays as well"
   ]
  },
  {
   "cell_type": "code",
   "execution_count": 44,
   "metadata": {},
   "outputs": [
    {
     "name": "stdout",
     "output_type": "stream",
     "text": [
      "[[ 1  2  3  4  5  6  7  8  9 10]\n",
      " [11 12 13 14 15 16 17 18 19 20]\n",
      " [21 22 23 24 25 26 27 28 29 30]\n",
      " [31 32 33 34 35 36 37 38 39 40]\n",
      " [41 42 43 44 45 46 47 48 49 50]] [[ 51  52  53  54  55  56  57  58  59  60]\n",
      " [ 61  62  63  64  65  66  67  68  69  70]\n",
      " [ 71  72  73  74  75  76  77  78  79  80]\n",
      " [ 81  82  83  84  85  86  87  88  89  90]\n",
      " [ 91  92  93  94  95  96  97  98  99 100]]\n"
     ]
    }
   ],
   "source": [
    "grid=np.linspace(1,100,100,dtype='int64').reshape((10,10))\n",
    "upper,lower=np.vsplit(grid,[5])\n",
    "print(upper,lower)"
   ]
  },
  {
   "cell_type": "code",
   "execution_count": 45,
   "metadata": {},
   "outputs": [
    {
     "name": "stdout",
     "output_type": "stream",
     "text": [
      "[[ 1  2  3]\n",
      " [11 12 13]\n",
      " [21 22 23]\n",
      " [31 32 33]\n",
      " [41 42 43]\n",
      " [51 52 53]\n",
      " [61 62 63]\n",
      " [71 72 73]\n",
      " [81 82 83]\n",
      " [91 92 93]] [[ 4  5  6  7]\n",
      " [14 15 16 17]\n",
      " [24 25 26 27]\n",
      " [34 35 36 37]\n",
      " [44 45 46 47]\n",
      " [54 55 56 57]\n",
      " [64 65 66 67]\n",
      " [74 75 76 77]\n",
      " [84 85 86 87]\n",
      " [94 95 96 97]] [[  8   9  10]\n",
      " [ 18  19  20]\n",
      " [ 28  29  30]\n",
      " [ 38  39  40]\n",
      " [ 48  49  50]\n",
      " [ 58  59  60]\n",
      " [ 68  69  70]\n",
      " [ 78  79  80]\n",
      " [ 88  89  90]\n",
      " [ 98  99 100]]\n"
     ]
    }
   ],
   "source": [
    "right,middlle,left=np.hsplit(grid,[3,7])\n",
    "print(right,middlle,left)"
   ]
  }
 ],
 "metadata": {
  "kernelspec": {
   "display_name": "Python 3.9.13 64-bit (windows store)",
   "language": "python",
   "name": "python3"
  },
  "language_info": {
   "codemirror_mode": {
    "name": "ipython",
    "version": 3
   },
   "file_extension": ".py",
   "mimetype": "text/x-python",
   "name": "python",
   "nbconvert_exporter": "python",
   "pygments_lexer": "ipython3",
   "version": "3.9.13"
  },
  "orig_nbformat": 4,
  "vscode": {
   "interpreter": {
    "hash": "49a102da4b5105263402ebcb8052cded23fbfdf691953dc1ee8c4f9cf48b6d97"
   }
  }
 },
 "nbformat": 4,
 "nbformat_minor": 2
}
