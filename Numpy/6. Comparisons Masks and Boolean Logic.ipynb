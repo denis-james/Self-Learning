{
 "cells": [
  {
   "cell_type": "code",
   "execution_count": 2,
   "metadata": {},
   "outputs": [],
   "source": [
    "import numpy as np"
   ]
  },
  {
   "cell_type": "markdown",
   "metadata": {},
   "source": [
    "# Comparisons, Masks, and Boolean Logic\n"
   ]
  },
  {
   "cell_type": "markdown",
   "metadata": {},
   "source": [
    "## Comparison Operators as ufuncs"
   ]
  },
  {
   "cell_type": "code",
   "execution_count": 6,
   "metadata": {},
   "outputs": [
    {
     "data": {
      "text/plain": [
       "array([ 7, 15,  2, 34, 29, 22, 34,  3, 34, 10, 19, 11, 38, 32, 37, 22, 12,\n",
       "       23, 14,  4, 25, 26, 12, 22, 15, 15, 31, 16, 38,  4,  3, 12, 28,  6,\n",
       "       19,  4, 30, 33, 21,  5, 29, 27, 25, 35, 14,  2, 11, 26, 39, 35])"
      ]
     },
     "execution_count": 6,
     "metadata": {},
     "output_type": "execute_result"
    }
   ],
   "source": [
    "A=np.random.randint(40,size=50)\n",
    "A"
   ]
  },
  {
   "cell_type": "code",
   "execution_count": 11,
   "metadata": {},
   "outputs": [
    {
     "name": "stdout",
     "output_type": "stream",
     "text": [
      "[ True False  True False False False False  True False  True False  True\n",
      " False False False False  True False  True  True False False  True False\n",
      " False False False False False  True  True  True False  True False  True\n",
      " False False False  True False False False False  True  True  True False\n",
      " False False]\n",
      "[False False False  True  True  True  True False  True False  True False\n",
      "  True  True  True  True False  True False False  True  True False  True\n",
      " False False  True  True  True False False False  True False  True False\n",
      "  True  True  True False  True  True  True  True False False False  True\n",
      "  True  True]\n",
      "[ True  True  True False False False False  True False  True False  True\n",
      " False False False False  True False  True  True False False  True False\n",
      "  True  True False False False  True  True  True False  True False  True\n",
      " False False False  True False False False False  True  True  True False\n",
      " False False]\n",
      "[ True  True  True False False False False  True False  True False  True\n",
      " False False False False  True False  True  True False False  True False\n",
      "  True  True False False False  True  True  True False  True False  True\n",
      " False False False  True False False False False  True  True  True False\n",
      " False False]\n",
      "[ True False  True  True  True  True  True  True  True  True  True  True\n",
      "  True  True  True  True  True  True  True  True  True  True  True  True\n",
      " False False  True  True  True  True  True  True  True  True  True  True\n",
      "  True  True  True  True  True  True  True  True  True  True  True  True\n",
      "  True  True]\n",
      "[False  True False False False False False False False False False False\n",
      " False False False False False False False False False False False False\n",
      "  True  True False False False False False False False False False False\n",
      " False False False False False False False False False False False False\n",
      " False False]\n"
     ]
    }
   ],
   "source": [
    "print(A<15)\n",
    "print(A>15)\n",
    "print(A<=15)\n",
    "print(A<=15)\n",
    "print(A!=15)\n",
    "print(A==15)"
   ]
  },
  {
   "cell_type": "code",
   "execution_count": 12,
   "metadata": {},
   "outputs": [
    {
     "data": {
      "text/plain": [
       "array([False, False,  True, False, False, False, False, False, False,\n",
       "       False, False, False, False, False, False, False, False, False,\n",
       "       False, False, False, False, False, False, False, False, False,\n",
       "       False, False, False, False, False, False, False, False, False,\n",
       "       False, False, False, False, False, False, False, False, False,\n",
       "        True, False, False, False, False])"
      ]
     },
     "execution_count": 12,
     "metadata": {},
     "output_type": "execute_result"
    }
   ],
   "source": [
    "(A*2)==(A**2)"
   ]
  },
  {
   "cell_type": "markdown",
   "metadata": {},
   "source": [
    "Although the comparison operators are being used as Ufunctions in numpy, internally numpy uses `np.less(A,15)` for `A<15`"
   ]
  },
  {
   "attachments": {
    "image.png": {
     "image/png": "[encoded data removed]"
    }
   },
   "cell_type": "markdown",
   "metadata": {},
   "source": [
    "![image.png](attachment:image.png)"
   ]
  },
  {
   "cell_type": "markdown",
   "metadata": {},
   "source": [
    "Quite obvious that it would also work with multi-Dimensional Array"
   ]
  },
  {
   "cell_type": "code",
   "execution_count": 14,
   "metadata": {},
   "outputs": [
    {
     "data": {
      "text/plain": [
       "array([[[ True,  True, False, False],\n",
       "        [ True, False, False, False],\n",
       "        [False, False,  True, False]],\n",
       "\n",
       "       [[False,  True,  True, False],\n",
       "        [ True,  True, False,  True],\n",
       "        [ True,  True, False,  True]]])"
      ]
     },
     "execution_count": 14,
     "metadata": {},
     "output_type": "execute_result"
    }
   ],
   "source": [
    "A=np.random.randint(100,size=(2,3,4))\n",
    "A<50"
   ]
  },
  {
   "cell_type": "markdown",
   "metadata": {},
   "source": [
    "Each of these results is a Boolean Array and Numpy provides some straightforward patterns for working with these Boolean results"
   ]
  },
  {
   "cell_type": "markdown",
   "metadata": {},
   "source": [
    "## Working with Boolean Arrays"
   ]
  },
  {
   "cell_type": "code",
   "execution_count": 15,
   "metadata": {},
   "outputs": [
    {
     "data": {
      "text/plain": [
       "array([[[38, 48, 65, 88],\n",
       "        [ 5, 82, 53, 57],\n",
       "        [64, 55, 34, 63]],\n",
       "\n",
       "       [[63, 30, 38, 97],\n",
       "        [49, 45, 54,  4],\n",
       "        [ 3, 20, 65, 22]]])"
      ]
     },
     "execution_count": 15,
     "metadata": {},
     "output_type": "execute_result"
    }
   ],
   "source": [
    "A"
   ]
  },
  {
   "cell_type": "markdown",
   "metadata": {},
   "source": [
    "### Counting True Entries"
   ]
  },
  {
   "cell_type": "code",
   "execution_count": 16,
   "metadata": {},
   "outputs": [
    {
     "data": {
      "text/plain": [
       "12"
      ]
     },
     "execution_count": 16,
     "metadata": {},
     "output_type": "execute_result"
    }
   ],
   "source": [
    "np.count_nonzero(A<50)"
   ]
  },
  {
   "cell_type": "code",
   "execution_count": 23,
   "metadata": {},
   "outputs": [
    {
     "name": "stdout",
     "output_type": "stream",
     "text": [
      "12\n",
      "[4 4 4]\n",
      "[[3 2 3 2]\n",
      " [3 3 3 2]]\n"
     ]
    }
   ],
   "source": [
    "#OR\n",
    "print(np.sum(A<50))\n",
    "print(np.sum(A<50,axis=(0,2)))#By using np.sum() we can specify the axis\n",
    "print(np.sum(A<75,axis=1))"
   ]
  },
  {
   "cell_type": "code",
   "execution_count": 27,
   "metadata": {},
   "outputs": [
    {
     "name": "stdout",
     "output_type": "stream",
     "text": [
      "True\n",
      "False\n"
     ]
    }
   ],
   "source": [
    "print(np.any(A>90))#if any value is true\n",
    "print(np.all(A<90))#If all values are true"
   ]
  },
  {
   "cell_type": "code",
   "execution_count": 28,
   "metadata": {},
   "outputs": [
    {
     "name": "stdout",
     "output_type": "stream",
     "text": [
      "[[ True  True  True False]\n",
      " [ True  True  True  True]\n",
      " [ True  True  True  True]]\n"
     ]
    }
   ],
   "source": [
    "print(np.any(A<60,axis=0))"
   ]
  },
  {
   "cell_type": "markdown",
   "metadata": {},
   "source": [
    "#### Remember to use the proper numpy version of the `sum` `any` and `all` functions. The built-in python functions do not contain the axis feature "
   ]
  },
  {
   "cell_type": "markdown",
   "metadata": {},
   "source": [
    "### Binary Boolean operators"
   ]
  },
  {
   "cell_type": "code",
   "execution_count": 45,
   "metadata": {},
   "outputs": [
    {
     "data": {
      "text/plain": [
       "(365,)"
      ]
     },
     "execution_count": 45,
     "metadata": {},
     "output_type": "execute_result"
    }
   ],
   "source": [
    "#IMPORTING RAINFALL DATA (PRECODED SCRIPT)\n",
    "import numpy as np\n",
    "import pandas as pd\n",
    "rainfall=pd.read_csv('Seattle2014.csv')['PRCP'].values\n",
    "inches=rainfall/254.0\n",
    "inches.shape"
   ]
  },
  {
   "cell_type": "code",
   "execution_count": 51,
   "metadata": {},
   "outputs": [
    {
     "data": {
      "text/plain": [
       "29"
      ]
     },
     "execution_count": 51,
     "metadata": {},
     "output_type": "execute_result"
    }
   ],
   "source": [
    "Between1AndHalfIn=(inches<1)&(inches>0.5)\n",
    "np.sum(Between1AndHalfIn)"
   ]
  },
  {
   "cell_type": "markdown",
   "metadata": {},
   "source": [
    "Note that the parentheses here are important–because of operator precedence rules, with parentheses removed this expression would be evaluated as follows, which results in an error:\n",
    "\n"
   ]
  },
  {
   "cell_type": "markdown",
   "metadata": {},
   "source": [
    "`inches > (0.5 & inches) < 1`"
   ]
  },
  {
   "cell_type": "code",
   "execution_count": 54,
   "metadata": {},
   "outputs": [
    {
     "data": {
      "text/plain": [
       "336"
      ]
     },
     "execution_count": 54,
     "metadata": {},
     "output_type": "execute_result"
    }
   ],
   "source": [
    "np.sum(~Between1AndHalfIn)\n",
    "# ~ being the not operator This expression calculates (inches>1) OR (inches<0.5)\n",
    "#Remember De-Morgan's Law"
   ]
  },
  {
   "attachments": {
    "image.png": {
     "image/png": "[encoded data removed]"
    }
   },
   "cell_type": "markdown",
   "metadata": {},
   "source": [
    "![image.png](attachment:image.png)"
   ]
  },
  {
   "cell_type": "markdown",
   "metadata": {},
   "source": [
    "### Boolean Arrays as Masks"
   ]
  },
  {
   "cell_type": "code",
   "execution_count": 59,
   "metadata": {},
   "outputs": [
    {
     "data": {
      "text/plain": [
       "array([[[38, 48, 65, 88],\n",
       "        [ 5, 82, 53, 57],\n",
       "        [64, 55, 34, 63]],\n",
       "\n",
       "       [[63, 30, 38, 97],\n",
       "        [49, 45, 54,  4],\n",
       "        [ 3, 20, 65, 22]]])"
      ]
     },
     "execution_count": 59,
     "metadata": {},
     "output_type": "execute_result"
    }
   ],
   "source": [
    "A"
   ]
  },
  {
   "cell_type": "code",
   "execution_count": 61,
   "metadata": {},
   "outputs": [
    {
     "data": {
      "text/plain": [
       "array([[[ True,  True, False, False],\n",
       "        [ True, False, False, False],\n",
       "        [False, False,  True, False]],\n",
       "\n",
       "       [[False,  True,  True, False],\n",
       "        [ True,  True, False,  True],\n",
       "        [ True,  True, False,  True]]])"
      ]
     },
     "execution_count": 61,
     "metadata": {},
     "output_type": "execute_result"
    }
   ],
   "source": [
    "A<50"
   ]
  },
  {
   "cell_type": "code",
   "execution_count": 63,
   "metadata": {},
   "outputs": [
    {
     "data": {
      "text/plain": [
       "array([38, 48,  5, 34, 30, 38, 49, 45,  4,  3, 20, 22])"
      ]
     },
     "execution_count": 63,
     "metadata": {},
     "output_type": "execute_result"
    }
   ],
   "source": [
    "A[A<50]"
   ]
  },
  {
   "cell_type": "markdown",
   "metadata": {},
   "source": [
    "https://jakevdp.github.io/PythonDataScienceHandbook/02.06-boolean-arrays-and-masks.html#:~:text=Aside%3A%20Using%20the%20Keywords%20and/or%20Versus%20the%20Operators%20%26/%7C"
   ]
  }
 ],
 "metadata": {
  "kernelspec": {
   "display_name": "Python 3",
   "language": "python",
   "name": "python3"
  },
  "language_info": {
   "codemirror_mode": {
    "name": "ipython",
    "version": 3
   },
   "file_extension": ".py",
   "mimetype": "text/x-python",
   "name": "python",
   "nbconvert_exporter": "python",
   "pygments_lexer": "ipython3",
   "version": "3.12.1"
  }
 },
 "nbformat": 4,
 "nbformat_minor": 2
}
